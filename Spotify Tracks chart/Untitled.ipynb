{
 "cells": [
  {
   "cell_type": "markdown",
   "id": "d1063656",
   "metadata": {},
   "source": [
    "## Spotify tracks chart"
   ]
  },
  {
   "cell_type": "code",
   "execution_count": null,
   "id": "e5a4c14a",
   "metadata": {},
   "outputs": [],
   "source": []
  },
  {
   "cell_type": "markdown",
   "id": "5eb5143b",
   "metadata": {},
   "source": [
    "## Import Libaries"
   ]
  },
  {
   "cell_type": "code",
   "execution_count": 2,
   "id": "e5c846d4",
   "metadata": {},
   "outputs": [],
   "source": [
    "import pandas as pd\n",
    "import numpy as np\n",
    "import matplotlib.pyplot as plt\n",
    "# scipi is a library for statistical tests and visualizations \n",
    "from scipy import stats\n",
    "# random enables us to generate random numbers\n",
    "import random"
   ]
  },
  {
   "cell_type": "code",
   "execution_count": null,
   "id": "ace7e0b3",
   "metadata": {},
   "outputs": [],
   "source": []
  },
  {
   "cell_type": "markdown",
   "id": "4a2f3950",
   "metadata": {},
   "source": [
    "## Sourcing and Loading"
   ]
  },
  {
   "cell_type": "code",
   "execution_count": 3,
   "id": "2c70013d",
   "metadata": {},
   "outputs": [
    {
     "data": {
      "text/html": [
       "<div>\n",
       "<style scoped>\n",
       "    .dataframe tbody tr th:only-of-type {\n",
       "        vertical-align: middle;\n",
       "    }\n",
       "\n",
       "    .dataframe tbody tr th {\n",
       "        vertical-align: top;\n",
       "    }\n",
       "\n",
       "    .dataframe thead th {\n",
       "        text-align: right;\n",
       "    }\n",
       "</style>\n",
       "<table border=\"1\" class=\"dataframe\">\n",
       "  <thead>\n",
       "    <tr style=\"text-align: right;\">\n",
       "      <th></th>\n",
       "      <th>date</th>\n",
       "      <th>country</th>\n",
       "      <th>position</th>\n",
       "      <th>streams</th>\n",
       "      <th>track_id</th>\n",
       "      <th>artists</th>\n",
       "      <th>artist_genres</th>\n",
       "      <th>duration</th>\n",
       "      <th>explicit</th>\n",
       "      <th>name</th>\n",
       "    </tr>\n",
       "  </thead>\n",
       "  <tbody>\n",
       "    <tr>\n",
       "      <th>0</th>\n",
       "      <td>2021/04/15</td>\n",
       "      <td>de</td>\n",
       "      <td>82</td>\n",
       "      <td>625718</td>\n",
       "      <td>20IvMlpi4U5RuDnAlXSRiV</td>\n",
       "      <td>['Haftbefehl']</td>\n",
       "      <td>['german hip hop']</td>\n",
       "      <td>198746</td>\n",
       "      <td>False</td>\n",
       "      <td>Crackküche</td>\n",
       "    </tr>\n",
       "    <tr>\n",
       "      <th>1</th>\n",
       "      <td>2019/01/31</td>\n",
       "      <td>jp</td>\n",
       "      <td>171</td>\n",
       "      <td>50896</td>\n",
       "      <td>0V1K6MU0utODk4yNqZKsFv</td>\n",
       "      <td>['Suchmos']</td>\n",
       "      <td>['japanese r&amp;b', 'j-rock', 'japanese soul', 'j...</td>\n",
       "      <td>408320</td>\n",
       "      <td>False</td>\n",
       "      <td>WATER</td>\n",
       "    </tr>\n",
       "    <tr>\n",
       "      <th>2</th>\n",
       "      <td>2018/11/15</td>\n",
       "      <td>tr</td>\n",
       "      <td>59</td>\n",
       "      <td>185439</td>\n",
       "      <td>4qzZm5EIdFurBpDieEmVc9</td>\n",
       "      <td>['Nilipek.']</td>\n",
       "      <td>['turkish singer-songwriter', 'turkish rock']</td>\n",
       "      <td>257142</td>\n",
       "      <td>False</td>\n",
       "      <td>Gözleri Aşka Gülen</td>\n",
       "    </tr>\n",
       "  </tbody>\n",
       "</table>\n",
       "</div>"
      ],
      "text/plain": [
       "         date country  position  streams                track_id  \\\n",
       "0  2021/04/15      de        82   625718  20IvMlpi4U5RuDnAlXSRiV   \n",
       "1  2019/01/31      jp       171    50896  0V1K6MU0utODk4yNqZKsFv   \n",
       "2  2018/11/15      tr        59   185439  4qzZm5EIdFurBpDieEmVc9   \n",
       "\n",
       "          artists                                      artist_genres  \\\n",
       "0  ['Haftbefehl']                                 ['german hip hop']   \n",
       "1     ['Suchmos']  ['japanese r&b', 'j-rock', 'japanese soul', 'j...   \n",
       "2    ['Nilipek.']      ['turkish singer-songwriter', 'turkish rock']   \n",
       "\n",
       "   duration  explicit                name  \n",
       "0    198746     False          Crackküche  \n",
       "1    408320     False               WATER  \n",
       "2    257142     False  Gözleri Aşka Gülen  "
      ]
     },
     "execution_count": 3,
     "metadata": {},
     "output_type": "execute_result"
    }
   ],
   "source": [
    "charts = 'charts.csv'\n",
    "\n",
    "# Read the csv file into a data frame called Google using the read_csv() pandas method.\n",
    "Charts = pd.read_csv(charts)\n",
    "\n",
    "# Using the head() pandas method, observe the first three entries.\n",
    "Charts.head(3)"
   ]
  },
  {
   "cell_type": "code",
   "execution_count": null,
   "id": "79d7b0fb",
   "metadata": {},
   "outputs": [],
   "source": [
    "Charts"
   ]
  }
 ],
 "metadata": {
  "kernelspec": {
   "display_name": "Python 3 (ipykernel)",
   "language": "python",
   "name": "python3"
  },
  "language_info": {
   "codemirror_mode": {
    "name": "ipython",
    "version": 3
   },
   "file_extension": ".py",
   "mimetype": "text/x-python",
   "name": "python",
   "nbconvert_exporter": "python",
   "pygments_lexer": "ipython3",
   "version": "3.11.5"
  }
 },
 "nbformat": 4,
 "nbformat_minor": 5
}
