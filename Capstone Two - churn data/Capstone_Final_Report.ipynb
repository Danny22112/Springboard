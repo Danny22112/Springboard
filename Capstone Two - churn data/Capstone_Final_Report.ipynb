{
 "cells": [
  {
   "cell_type": "markdown",
   "id": "537e8815",
   "metadata": {},
   "source": [
    "# Improve Telecom Company customer retention"
   ]
  },
  {
   "cell_type": "markdown",
   "id": "d9b466ab",
   "metadata": {},
   "source": [
    "Why do customers leave and can your business afford to let your customers slip away?\n",
    "The telecom industry is highly competitive, with companies constantly vying for customer loyalty. A key metric that helps evaluate the health of a telecom business is the churn rate—the percentage of customers who leave a service over a given period. Understanding churn is critical for telecom companies, as high churn rates often indicate dissatisfaction, unmet customer needs, or better offers from competitors. In this dataset, wecan identify the factors driving churn and devise strategies to improve customer retention, reduce acquisition costs, and boost overall profitability."
   ]
  },
  {
   "cell_type": "code",
   "execution_count": null,
   "id": "eb7e0351",
   "metadata": {},
   "outputs": [],
   "source": []
  },
  {
   "cell_type": "code",
   "execution_count": null,
   "id": "f3725f9c",
   "metadata": {},
   "outputs": [],
   "source": []
  },
  {
   "cell_type": "code",
   "execution_count": null,
   "id": "27fe02d3",
   "metadata": {},
   "outputs": [],
   "source": []
  },
  {
   "cell_type": "code",
   "execution_count": null,
   "id": "2ce4279e",
   "metadata": {},
   "outputs": [],
   "source": []
  },
  {
   "cell_type": "markdown",
   "id": "9ce08026",
   "metadata": {},
   "source": [
    "Imagine you've just launched a new subscription-based service. The initial months are exhilarating, customers are signing up, actively using your product, and leaving glowing reviews. But as time goes on, you notice a troubling trend: an increasing number of customers are canceling their subscriptions. You were confident they loved your product, so why are they leaving in such numbers? This leaves you puzzled and searching for answers: What went wrong?\n",
    "\n",
    "A Switzerland wireless service company collected data on their customer turn rate. By identifying patterns or common reasons for churn, businesses can implement strategies to retain customers, such as loyalty programs, personalized experiences, or product improvements.\n",
    "In this project, I will determine a recommendation system for the 8a.nu website that will help climbers identify some unique international climbing objectives."
   ]
  }
 ],
 "metadata": {
  "kernelspec": {
   "display_name": "Python 3 (ipykernel)",
   "language": "python",
   "name": "python3"
  },
  "language_info": {
   "codemirror_mode": {
    "name": "ipython",
    "version": 3
   },
   "file_extension": ".py",
   "mimetype": "text/x-python",
   "name": "python",
   "nbconvert_exporter": "python",
   "pygments_lexer": "ipython3",
   "version": "3.11.5"
  }
 },
 "nbformat": 4,
 "nbformat_minor": 5
}
