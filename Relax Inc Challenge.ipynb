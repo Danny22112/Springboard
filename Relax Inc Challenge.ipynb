{
 "cells": [
  {
   "cell_type": "markdown",
   "id": "feb827f7",
   "metadata": {},
   "source": [
    "# Ultimate Inc. Challenge"
   ]
  },
  {
   "cell_type": "markdown",
   "id": "6f89df51",
   "metadata": {},
   "source": [
    "The data is available as two attached CSV files: takehome_user_engagement. csv takehome_users . csv The data has the following two tables:\n",
    "\n",
    "    1. A user table ( \"takehome_users\" ) with data on 12,000 users who signed up for the product in the last two years. This  table includes:\n",
    "    • name: the user's name\n",
    "    • object_id: the user's id\n",
    "    • email: email address\n",
    "    • creation_source: how their account was created. This takes on one of 5 values:\n",
    "        * PERSONAL_PROJECTS: invited to join another user's personal workspace\n",
    "        * GUEST_INVITE: invited to an organization as a guest (limited permissions)\n",
    "        * ORG_INVITE: invited to an organization (as a full member)\n",
    "        * SIGNUP: signed up via the website\n",
    "        * SIGNUP_GOOGLE_AUTH: signed up using Google Authentication (using a Google email account for their login id)\n",
    "    • creation_time: when they created their account\n",
    "    • last_session_creation_time: unix timestamp of last login\n",
    "    • opted_in_to_mailing_list: whether they have opted into receiving marketing emails\n",
    "    • enabled_for_marketing_drip: whether they are on the regular marketing email drip\n",
    "    • org_id: the organization (group of users) they belong to\n",
    "    • invited_by_user_id: which user invited them to join (if applicable).\n",
    "    \n",
    "    2. A usage summary table ( \"takehome_user_engagement\" ) that has a row for each day that a user logged into the product.\n",
    "    Defining an \"adopted user\" as a user who has logged into the product on three separate days in at least one sevenday period,     identify which factors predict future user adoption .\n",
    "\n",
    "We suggest spending 12 hours on this, but you're welcome to spend more or less. Please send us a brief writeup of your findings (the more concise, the better no more than one page), along with any summary tables, graphs, code, or queries that can help us understand your approach. Please note any factors you considered or investigation you did, even if they did not pan out. Feel free to identify any further research or data you think would be valuable."
   ]
  },
  {
   "cell_type": "markdown",
   "id": "3d401079",
   "metadata": {},
   "source": [
    "## Import Libraries"
   ]
  },
  {
   "cell_type": "code",
   "execution_count": 1,
   "id": "2652a480",
   "metadata": {
    "scrolled": true
   },
   "outputs": [],
   "source": [
    "import pandas as pd\n",
    "import numpy as np\n",
    "\n",
    "# Ploting\n",
    "import matplotlib.pyplot as plt\n",
    "import seaborn as sns\n",
    "import matplotlib.pyplot as plt\n",
    "import seaborn as sns\n",
    "\n",
    "# Warnings\n",
    "import warnings\n",
    "warnings.filterwarnings(\"ignore\")"
   ]
  },
  {
   "cell_type": "markdown",
   "id": "00f4c29c",
   "metadata": {},
   "source": [
    "## Load Data"
   ]
  },
  {
   "cell_type": "markdown",
   "id": "613dfe4d",
   "metadata": {},
   "source": [
    "### User engagement data"
   ]
  },
  {
   "cell_type": "code",
   "execution_count": 2,
   "id": "04bf5e3e",
   "metadata": {
    "scrolled": true
   },
   "outputs": [
    {
     "data": {
      "text/html": [
       "<div>\n",
       "<style scoped>\n",
       "    .dataframe tbody tr th:only-of-type {\n",
       "        vertical-align: middle;\n",
       "    }\n",
       "\n",
       "    .dataframe tbody tr th {\n",
       "        vertical-align: top;\n",
       "    }\n",
       "\n",
       "    .dataframe thead th {\n",
       "        text-align: right;\n",
       "    }\n",
       "</style>\n",
       "<table border=\"1\" class=\"dataframe\">\n",
       "  <thead>\n",
       "    <tr style=\"text-align: right;\">\n",
       "      <th></th>\n",
       "      <th>time_stamp</th>\n",
       "      <th>user_id</th>\n",
       "      <th>visited</th>\n",
       "    </tr>\n",
       "  </thead>\n",
       "  <tbody>\n",
       "    <tr>\n",
       "      <th>0</th>\n",
       "      <td>2014-04-22 03:53:30</td>\n",
       "      <td>1</td>\n",
       "      <td>1</td>\n",
       "    </tr>\n",
       "    <tr>\n",
       "      <th>1</th>\n",
       "      <td>2013-11-15 03:45:04</td>\n",
       "      <td>2</td>\n",
       "      <td>1</td>\n",
       "    </tr>\n",
       "    <tr>\n",
       "      <th>2</th>\n",
       "      <td>2013-11-29 03:45:04</td>\n",
       "      <td>2</td>\n",
       "      <td>1</td>\n",
       "    </tr>\n",
       "    <tr>\n",
       "      <th>3</th>\n",
       "      <td>2013-12-09 03:45:04</td>\n",
       "      <td>2</td>\n",
       "      <td>1</td>\n",
       "    </tr>\n",
       "    <tr>\n",
       "      <th>4</th>\n",
       "      <td>2013-12-25 03:45:04</td>\n",
       "      <td>2</td>\n",
       "      <td>1</td>\n",
       "    </tr>\n",
       "  </tbody>\n",
       "</table>\n",
       "</div>"
      ],
      "text/plain": [
       "            time_stamp  user_id  visited\n",
       "0  2014-04-22 03:53:30        1        1\n",
       "1  2013-11-15 03:45:04        2        1\n",
       "2  2013-11-29 03:45:04        2        1\n",
       "3  2013-12-09 03:45:04        2        1\n",
       "4  2013-12-25 03:45:04        2        1"
      ]
     },
     "execution_count": 2,
     "metadata": {},
     "output_type": "execute_result"
    }
   ],
   "source": [
    "df_engagement = pd.read_csv(r'C:\\Users\\dshaw\\Springboard\\Ultimate Technologies Inc\\takehome_user_engagement.csv')\n",
    "df_engagement.head()"
   ]
  },
  {
   "cell_type": "code",
   "execution_count": 3,
   "id": "ab09d645",
   "metadata": {},
   "outputs": [
    {
     "name": "stdout",
     "output_type": "stream",
     "text": [
      "<class 'pandas.core.frame.DataFrame'>\n",
      "RangeIndex: 207917 entries, 0 to 207916\n",
      "Data columns (total 3 columns):\n",
      " #   Column      Non-Null Count   Dtype \n",
      "---  ------      --------------   ----- \n",
      " 0   time_stamp  207917 non-null  object\n",
      " 1   user_id     207917 non-null  int64 \n",
      " 2   visited     207917 non-null  int64 \n",
      "dtypes: int64(2), object(1)\n",
      "memory usage: 4.8+ MB\n"
     ]
    }
   ],
   "source": [
    "df_engagement.info()"
   ]
  },
  {
   "cell_type": "code",
   "execution_count": 4,
   "id": "be2f4371",
   "metadata": {},
   "outputs": [
    {
     "name": "stdout",
     "output_type": "stream",
     "text": [
      "There were 8823 users and a total of 207917 logins\n"
     ]
    }
   ],
   "source": [
    "# Calculate the number of unique users and total login\n",
    "print('There were {} users and a total of {} logins'.format(\n",
    "    df_engagement['user_id'].nunique(), len(df_engagement)))"
   ]
  },
  {
   "cell_type": "code",
   "execution_count": 5,
   "id": "440b94d9",
   "metadata": {},
   "outputs": [
    {
     "data": {
      "text/html": [
       "<div>\n",
       "<style scoped>\n",
       "    .dataframe tbody tr th:only-of-type {\n",
       "        vertical-align: middle;\n",
       "    }\n",
       "\n",
       "    .dataframe tbody tr th {\n",
       "        vertical-align: top;\n",
       "    }\n",
       "\n",
       "    .dataframe thead th {\n",
       "        text-align: right;\n",
       "    }\n",
       "</style>\n",
       "<table border=\"1\" class=\"dataframe\">\n",
       "  <thead>\n",
       "    <tr style=\"text-align: right;\">\n",
       "      <th></th>\n",
       "      <th>time_stamp</th>\n",
       "      <th>user_id</th>\n",
       "      <th>visited</th>\n",
       "    </tr>\n",
       "  </thead>\n",
       "  <tbody>\n",
       "    <tr>\n",
       "      <th>0</th>\n",
       "      <td>2014-04-22 03:53:30</td>\n",
       "      <td>1</td>\n",
       "      <td>1</td>\n",
       "    </tr>\n",
       "    <tr>\n",
       "      <th>1</th>\n",
       "      <td>2013-11-15 03:45:04</td>\n",
       "      <td>2</td>\n",
       "      <td>1</td>\n",
       "    </tr>\n",
       "    <tr>\n",
       "      <th>2</th>\n",
       "      <td>2013-11-29 03:45:04</td>\n",
       "      <td>2</td>\n",
       "      <td>1</td>\n",
       "    </tr>\n",
       "    <tr>\n",
       "      <th>3</th>\n",
       "      <td>2013-12-09 03:45:04</td>\n",
       "      <td>2</td>\n",
       "      <td>1</td>\n",
       "    </tr>\n",
       "    <tr>\n",
       "      <th>4</th>\n",
       "      <td>2013-12-25 03:45:04</td>\n",
       "      <td>2</td>\n",
       "      <td>1</td>\n",
       "    </tr>\n",
       "  </tbody>\n",
       "</table>\n",
       "</div>"
      ],
      "text/plain": [
       "           time_stamp  user_id  visited\n",
       "0 2014-04-22 03:53:30        1        1\n",
       "1 2013-11-15 03:45:04        2        1\n",
       "2 2013-11-29 03:45:04        2        1\n",
       "3 2013-12-09 03:45:04        2        1\n",
       "4 2013-12-25 03:45:04        2        1"
      ]
     },
     "execution_count": 5,
     "metadata": {},
     "output_type": "execute_result"
    }
   ],
   "source": [
    "# Convert 'time_stamp' into datetime format\n",
    "df_engagement['time_stamp'] = pd.to_datetime(\n",
    "    df_engagement['time_stamp'], format='%Y-%m-%d %H:%M:%S')\n",
    "df_engagement.head()"
   ]
  },
  {
   "cell_type": "code",
   "execution_count": 6,
   "id": "96d0c193",
   "metadata": {},
   "outputs": [
    {
     "name": "stdout",
     "output_type": "stream",
     "text": [
      "<class 'pandas.core.frame.DataFrame'>\n",
      "RangeIndex: 207917 entries, 0 to 207916\n",
      "Data columns (total 3 columns):\n",
      " #   Column      Non-Null Count   Dtype         \n",
      "---  ------      --------------   -----         \n",
      " 0   time_stamp  207917 non-null  datetime64[ns]\n",
      " 1   user_id     207917 non-null  int64         \n",
      " 2   visited     207917 non-null  int64         \n",
      "dtypes: datetime64[ns](1), int64(2)\n",
      "memory usage: 4.8 MB\n"
     ]
    }
   ],
   "source": [
    "df_engagement.info()"
   ]
  },
  {
   "cell_type": "code",
   "execution_count": 7,
   "id": "9f1306b2",
   "metadata": {},
   "outputs": [],
   "source": [
    "# define a function to see if a user logged in on 3 seperate days in a 7-day period.\n",
    "def logins_in_days(df, days=7, logins=3):\n",
    "    from datetime import timedelta\n",
    "    # first drop duplicate days and sort by day\n",
    "    df['date'] = df['time_stamp'].dt.date\n",
    "    df = df.drop_duplicates(subset='date').sort_values('date')\n",
    "    # calculate how many days has passed for every 3 logins\n",
    "    passed_days = df['date'].diff(periods=logins-1)\n",
    "    # check if any passed time is less than 7 days\n",
    "    return any(passed_days <= timedelta(days=days))"
   ]
  },
  {
   "cell_type": "code",
   "execution_count": 8,
   "id": "467d5b5e",
   "metadata": {},
   "outputs": [],
   "source": [
    "# check if a user has logged in on 3 separate days within a 7-day period\n",
    "def logins_in_days(df, days=7, logins=3):\n",
    "    from datetime import timedelta\n",
    "    \n",
    "    # Ensure time_stamp is in datetime format and create 'date' column for day-based calculations\n",
    "    df['date'] = df['time_stamp'].dt.date\n",
    "    \n",
    "    # Drop duplicates based on 'date' and sort by date\n",
    "    df = df.drop_duplicates(subset='date').sort_values('date')\n",
    "    \n",
    "    # Loop through the data to check every window of 'logins' (3) for the time difference\n",
    "    for i in range(len(df) - logins + 1):\n",
    "        # Calculate the difference between the first and the last date of the selected logins period\n",
    "        diff = (df['date'].iloc[i + logins - 1] - df['date'].iloc[i])\n",
    "        \n",
    "        # If the difference is less than or equal to 'days' (7), return True (i.e., the user has 3 logins in the period)\n",
    "        if diff <= timedelta(days=days):\n",
    "            return True\n",
    "    \n",
    "    # If no such period is found, return False\n",
    "    return False"
   ]
  },
  {
   "cell_type": "code",
   "execution_count": 9,
   "id": "d8e64c93",
   "metadata": {},
   "outputs": [],
   "source": [
    "# Run the function on all users\n",
    "adopted = df_engagement.groupby('user_id').apply(logins_in_days)\n",
    "\n",
    "# Assign the result to a new column 'adopted_user' in the DataFrame\n",
    "adopted.name = 'adopted_user'\n",
    "\n",
    "# Optionally, join the result back to the original DataFrame\n",
    "df_engagement = df_engagement.merge(adopted, on='user_id', how='left')\n"
   ]
  },
  {
   "cell_type": "code",
   "execution_count": 10,
   "id": "7ca102de",
   "metadata": {},
   "outputs": [
    {
     "name": "stdout",
     "output_type": "stream",
     "text": [
      "There were 1656 adopted users out of 8823 users\n"
     ]
    }
   ],
   "source": [
    "# Print the number of adopted users out of total users\n",
    "print('There were {} adopted users out of {} users'.format(\n",
    "    sum(adopted), len(adopted)))\n"
   ]
  },
  {
   "cell_type": "markdown",
   "id": "518f56c5",
   "metadata": {},
   "source": [
    "### User data"
   ]
  },
  {
   "cell_type": "code",
   "execution_count": 11,
   "id": "a3c08ee8",
   "metadata": {},
   "outputs": [],
   "source": [
    "df_users = pd.read_csv(r'C:\\Users\\dshaw\\Springboard\\Ultimate Technologies Inc\\takehome_users.csv')"
   ]
  },
  {
   "cell_type": "code",
   "execution_count": 12,
   "id": "251af744",
   "metadata": {},
   "outputs": [
    {
     "data": {
      "text/html": [
       "<div>\n",
       "<style scoped>\n",
       "    .dataframe tbody tr th:only-of-type {\n",
       "        vertical-align: middle;\n",
       "    }\n",
       "\n",
       "    .dataframe tbody tr th {\n",
       "        vertical-align: top;\n",
       "    }\n",
       "\n",
       "    .dataframe thead th {\n",
       "        text-align: right;\n",
       "    }\n",
       "</style>\n",
       "<table border=\"1\" class=\"dataframe\">\n",
       "  <thead>\n",
       "    <tr style=\"text-align: right;\">\n",
       "      <th></th>\n",
       "      <th>object_id</th>\n",
       "      <th>creation_time</th>\n",
       "      <th>name</th>\n",
       "      <th>email</th>\n",
       "      <th>creation_source</th>\n",
       "      <th>last_session_creation_time</th>\n",
       "      <th>opted_in_to_mailing_list</th>\n",
       "      <th>enabled_for_marketing_drip</th>\n",
       "      <th>org_id</th>\n",
       "      <th>invited_by_user_id</th>\n",
       "    </tr>\n",
       "  </thead>\n",
       "  <tbody>\n",
       "    <tr>\n",
       "      <th>0</th>\n",
       "      <td>1</td>\n",
       "      <td>4/22/2014 3:53</td>\n",
       "      <td>Clausen August</td>\n",
       "      <td>AugustCClausen@yahoo.com</td>\n",
       "      <td>GUEST_INVITE</td>\n",
       "      <td>1.398139e+09</td>\n",
       "      <td>1</td>\n",
       "      <td>0</td>\n",
       "      <td>11</td>\n",
       "      <td>10803.0</td>\n",
       "    </tr>\n",
       "    <tr>\n",
       "      <th>1</th>\n",
       "      <td>2</td>\n",
       "      <td>11/15/2013 3:45</td>\n",
       "      <td>Poole Matthew</td>\n",
       "      <td>MatthewPoole@gustr.com</td>\n",
       "      <td>ORG_INVITE</td>\n",
       "      <td>1.396238e+09</td>\n",
       "      <td>0</td>\n",
       "      <td>0</td>\n",
       "      <td>1</td>\n",
       "      <td>316.0</td>\n",
       "    </tr>\n",
       "    <tr>\n",
       "      <th>2</th>\n",
       "      <td>3</td>\n",
       "      <td>3/19/2013 23:14</td>\n",
       "      <td>Bottrill Mitchell</td>\n",
       "      <td>MitchellBottrill@gustr.com</td>\n",
       "      <td>ORG_INVITE</td>\n",
       "      <td>1.363735e+09</td>\n",
       "      <td>0</td>\n",
       "      <td>0</td>\n",
       "      <td>94</td>\n",
       "      <td>1525.0</td>\n",
       "    </tr>\n",
       "    <tr>\n",
       "      <th>3</th>\n",
       "      <td>4</td>\n",
       "      <td>5/21/2013 8:09</td>\n",
       "      <td>Clausen Nicklas</td>\n",
       "      <td>NicklasSClausen@yahoo.com</td>\n",
       "      <td>GUEST_INVITE</td>\n",
       "      <td>1.369210e+09</td>\n",
       "      <td>0</td>\n",
       "      <td>0</td>\n",
       "      <td>1</td>\n",
       "      <td>5151.0</td>\n",
       "    </tr>\n",
       "    <tr>\n",
       "      <th>4</th>\n",
       "      <td>5</td>\n",
       "      <td>1/17/2013 10:14</td>\n",
       "      <td>Raw Grace</td>\n",
       "      <td>GraceRaw@yahoo.com</td>\n",
       "      <td>GUEST_INVITE</td>\n",
       "      <td>1.358850e+09</td>\n",
       "      <td>0</td>\n",
       "      <td>0</td>\n",
       "      <td>193</td>\n",
       "      <td>5240.0</td>\n",
       "    </tr>\n",
       "  </tbody>\n",
       "</table>\n",
       "</div>"
      ],
      "text/plain": [
       "   object_id    creation_time               name                       email  \\\n",
       "0          1   4/22/2014 3:53     Clausen August    AugustCClausen@yahoo.com   \n",
       "1          2  11/15/2013 3:45      Poole Matthew      MatthewPoole@gustr.com   \n",
       "2          3  3/19/2013 23:14  Bottrill Mitchell  MitchellBottrill@gustr.com   \n",
       "3          4   5/21/2013 8:09    Clausen Nicklas   NicklasSClausen@yahoo.com   \n",
       "4          5  1/17/2013 10:14          Raw Grace          GraceRaw@yahoo.com   \n",
       "\n",
       "  creation_source  last_session_creation_time  opted_in_to_mailing_list  \\\n",
       "0    GUEST_INVITE                1.398139e+09                         1   \n",
       "1      ORG_INVITE                1.396238e+09                         0   \n",
       "2      ORG_INVITE                1.363735e+09                         0   \n",
       "3    GUEST_INVITE                1.369210e+09                         0   \n",
       "4    GUEST_INVITE                1.358850e+09                         0   \n",
       "\n",
       "   enabled_for_marketing_drip  org_id  invited_by_user_id  \n",
       "0                           0      11             10803.0  \n",
       "1                           0       1               316.0  \n",
       "2                           0      94              1525.0  \n",
       "3                           0       1              5151.0  \n",
       "4                           0     193              5240.0  "
      ]
     },
     "execution_count": 12,
     "metadata": {},
     "output_type": "execute_result"
    }
   ],
   "source": [
    "df_users.head()"
   ]
  },
  {
   "cell_type": "code",
   "execution_count": 13,
   "id": "c0f99753",
   "metadata": {},
   "outputs": [
    {
     "data": {
      "text/html": [
       "<div>\n",
       "<style scoped>\n",
       "    .dataframe tbody tr th:only-of-type {\n",
       "        vertical-align: middle;\n",
       "    }\n",
       "\n",
       "    .dataframe tbody tr th {\n",
       "        vertical-align: top;\n",
       "    }\n",
       "\n",
       "    .dataframe thead th {\n",
       "        text-align: right;\n",
       "    }\n",
       "</style>\n",
       "<table border=\"1\" class=\"dataframe\">\n",
       "  <thead>\n",
       "    <tr style=\"text-align: right;\">\n",
       "      <th></th>\n",
       "      <th>object_id</th>\n",
       "      <th>creation_time</th>\n",
       "      <th>creation_source</th>\n",
       "      <th>last_session_creation_time</th>\n",
       "      <th>opted_in_to_mailing_list</th>\n",
       "      <th>enabled_for_marketing_drip</th>\n",
       "      <th>org_id</th>\n",
       "      <th>invited_by_user_id</th>\n",
       "    </tr>\n",
       "  </thead>\n",
       "  <tbody>\n",
       "    <tr>\n",
       "      <th>0</th>\n",
       "      <td>1</td>\n",
       "      <td>4/22/2014 3:53</td>\n",
       "      <td>GUEST_INVITE</td>\n",
       "      <td>1.398139e+09</td>\n",
       "      <td>1</td>\n",
       "      <td>0</td>\n",
       "      <td>11</td>\n",
       "      <td>10803.0</td>\n",
       "    </tr>\n",
       "    <tr>\n",
       "      <th>1</th>\n",
       "      <td>2</td>\n",
       "      <td>11/15/2013 3:45</td>\n",
       "      <td>ORG_INVITE</td>\n",
       "      <td>1.396238e+09</td>\n",
       "      <td>0</td>\n",
       "      <td>0</td>\n",
       "      <td>1</td>\n",
       "      <td>316.0</td>\n",
       "    </tr>\n",
       "    <tr>\n",
       "      <th>2</th>\n",
       "      <td>3</td>\n",
       "      <td>3/19/2013 23:14</td>\n",
       "      <td>ORG_INVITE</td>\n",
       "      <td>1.363735e+09</td>\n",
       "      <td>0</td>\n",
       "      <td>0</td>\n",
       "      <td>94</td>\n",
       "      <td>1525.0</td>\n",
       "    </tr>\n",
       "    <tr>\n",
       "      <th>3</th>\n",
       "      <td>4</td>\n",
       "      <td>5/21/2013 8:09</td>\n",
       "      <td>GUEST_INVITE</td>\n",
       "      <td>1.369210e+09</td>\n",
       "      <td>0</td>\n",
       "      <td>0</td>\n",
       "      <td>1</td>\n",
       "      <td>5151.0</td>\n",
       "    </tr>\n",
       "    <tr>\n",
       "      <th>4</th>\n",
       "      <td>5</td>\n",
       "      <td>1/17/2013 10:14</td>\n",
       "      <td>GUEST_INVITE</td>\n",
       "      <td>1.358850e+09</td>\n",
       "      <td>0</td>\n",
       "      <td>0</td>\n",
       "      <td>193</td>\n",
       "      <td>5240.0</td>\n",
       "    </tr>\n",
       "  </tbody>\n",
       "</table>\n",
       "</div>"
      ],
      "text/plain": [
       "   object_id    creation_time creation_source  last_session_creation_time  \\\n",
       "0          1   4/22/2014 3:53    GUEST_INVITE                1.398139e+09   \n",
       "1          2  11/15/2013 3:45      ORG_INVITE                1.396238e+09   \n",
       "2          3  3/19/2013 23:14      ORG_INVITE                1.363735e+09   \n",
       "3          4   5/21/2013 8:09    GUEST_INVITE                1.369210e+09   \n",
       "4          5  1/17/2013 10:14    GUEST_INVITE                1.358850e+09   \n",
       "\n",
       "   opted_in_to_mailing_list  enabled_for_marketing_drip  org_id  \\\n",
       "0                         1                           0      11   \n",
       "1                         0                           0       1   \n",
       "2                         0                           0      94   \n",
       "3                         0                           0       1   \n",
       "4                         0                           0     193   \n",
       "\n",
       "   invited_by_user_id  \n",
       "0             10803.0  \n",
       "1               316.0  \n",
       "2              1525.0  \n",
       "3              5151.0  \n",
       "4              5240.0  "
      ]
     },
     "execution_count": 13,
     "metadata": {},
     "output_type": "execute_result"
    }
   ],
   "source": [
    "# drop coloumns that arent useful \n",
    "df_users = df_users.drop(columns=['name', 'email'])\n",
    "df_users.head()"
   ]
  },
  {
   "cell_type": "code",
   "execution_count": 14,
   "id": "fb5a1078",
   "metadata": {},
   "outputs": [
    {
     "name": "stdout",
     "output_type": "stream",
     "text": [
      "org_id\n",
      "0    319\n",
      "1    233\n",
      "2    201\n",
      "3    168\n",
      "4    159\n",
      "Name: count, dtype: int64\n"
     ]
    }
   ],
   "source": [
    "# Get the top 5 organizations with the most users\n",
    "top_users_orgs = df_users['org_id'].value_counts().head()\n",
    "\n",
    "# Display the result\n",
    "print(top_users_orgs)"
   ]
  },
  {
   "cell_type": "code",
   "execution_count": 15,
   "id": "44692e60",
   "metadata": {},
   "outputs": [
    {
     "name": "stdout",
     "output_type": "stream",
     "text": [
      "invited_by_user_id\n",
      "10741.0    13\n",
      "2527.0     12\n",
      "1525.0     11\n",
      "11770.0    11\n",
      "2308.0     11\n",
      "Name: count, dtype: int64\n"
     ]
    }
   ],
   "source": [
    "# Get the top 5 users with the most invites\n",
    "top_5_invitors = df_users['invited_by_user_id'].value_counts().head()\n",
    "\n",
    "# Display the result\n",
    "print(top_5_invitors)"
   ]
  },
  {
   "cell_type": "code",
   "execution_count": 16,
   "id": "68ec67bf",
   "metadata": {},
   "outputs": [],
   "source": [
    "# Drop columns in-place\n",
    "df_users.drop(['org_id', 'invited_by_user_id'], axis=1, inplace=True)"
   ]
  },
  {
   "cell_type": "code",
   "execution_count": 17,
   "id": "357f04cb",
   "metadata": {},
   "outputs": [
    {
     "data": {
      "text/plain": [
       "<bound method NDFrame.head of        object_id    creation_time     creation_source  \\\n",
       "0              1   4/22/2014 3:53        GUEST_INVITE   \n",
       "1              2  11/15/2013 3:45          ORG_INVITE   \n",
       "2              3  3/19/2013 23:14          ORG_INVITE   \n",
       "3              4   5/21/2013 8:09        GUEST_INVITE   \n",
       "4              5  1/17/2013 10:14        GUEST_INVITE   \n",
       "...          ...              ...                 ...   \n",
       "11995      11996    9/6/2013 6:14          ORG_INVITE   \n",
       "11996      11997  1/10/2013 18:28  SIGNUP_GOOGLE_AUTH   \n",
       "11997      11998  4/27/2014 12:45        GUEST_INVITE   \n",
       "11998      11999  5/31/2012 11:55   PERSONAL_PROJECTS   \n",
       "11999      12000   1/26/2014 8:57              SIGNUP   \n",
       "\n",
       "       last_session_creation_time  opted_in_to_mailing_list  \\\n",
       "0                    1.398139e+09                         1   \n",
       "1                    1.396238e+09                         0   \n",
       "2                    1.363735e+09                         0   \n",
       "3                    1.369210e+09                         0   \n",
       "4                    1.358850e+09                         0   \n",
       "...                           ...                       ...   \n",
       "11995                1.378448e+09                         0   \n",
       "11996                1.358275e+09                         0   \n",
       "11997                1.398603e+09                         1   \n",
       "11998                1.338638e+09                         0   \n",
       "11999                1.390727e+09                         0   \n",
       "\n",
       "       enabled_for_marketing_drip  \n",
       "0                               0  \n",
       "1                               0  \n",
       "2                               0  \n",
       "3                               0  \n",
       "4                               0  \n",
       "...                           ...  \n",
       "11995                           0  \n",
       "11996                           0  \n",
       "11997                           1  \n",
       "11998                           0  \n",
       "11999                           1  \n",
       "\n",
       "[12000 rows x 6 columns]>"
      ]
     },
     "execution_count": 17,
     "metadata": {},
     "output_type": "execute_result"
    }
   ],
   "source": [
    "df_users.head"
   ]
  },
  {
   "cell_type": "markdown",
   "id": "72db0eee",
   "metadata": {},
   "source": [
    "By using the creation time and last session time, we can create two valuable features. The history of software usage may influence the likelihood of becoming an \"adopted user.\" Specifically, users who have been using the software for a longer period are more likely to become adopted users compared to those who have just signed up. Additionally, since the adoption rate can vary over time, examining the account age (based on the creation time) can provide further insights."
   ]
  },
  {
   "cell_type": "code",
   "execution_count": 18,
   "id": "cf5252cb",
   "metadata": {},
   "outputs": [],
   "source": [
    "# Convert both time features into datetime format with the correct format\n",
    "df_users['creation_time'] = pd.to_datetime(df_users['creation_time'], format='%m/%d/%Y %H:%M')\n",
    "df_users['last_session_creation_time'] = pd.to_datetime(df_users['last_session_creation_time'], unit='s')\n",
    "\n",
    "# Calculate user history: number of days between account creation and last use\n",
    "df_users['history'] = df_users['last_session_creation_time'] - df_users['creation_time']\n",
    "df_users['history'] = df_users['history'].dt.days  # Extract number of days\n",
    "\n",
    "# Calculate account age: number of days since account creation and now\n",
    "# Use the latest creation time in the dataset to represent the current date\n",
    "latest = max(df_users['creation_time'])\n",
    "df_users['account_age'] = latest - df_users['creation_time']\n",
    "df_users['account_age'] = df_users['account_age'].dt.days  # Extract number of days\n",
    "\n",
    "# Drop the original 'creation_time' and 'last_session_creation_time' columns as they are no longer needed\n",
    "df_users = df_users.drop(['creation_time', 'last_session_creation_time'], axis=1)\n"
   ]
  },
  {
   "cell_type": "code",
   "execution_count": 19,
   "id": "ecf3aaa0",
   "metadata": {},
   "outputs": [
    {
     "data": {
      "text/html": [
       "<div>\n",
       "<style scoped>\n",
       "    .dataframe tbody tr th:only-of-type {\n",
       "        vertical-align: middle;\n",
       "    }\n",
       "\n",
       "    .dataframe tbody tr th {\n",
       "        vertical-align: top;\n",
       "    }\n",
       "\n",
       "    .dataframe thead th {\n",
       "        text-align: right;\n",
       "    }\n",
       "</style>\n",
       "<table border=\"1\" class=\"dataframe\">\n",
       "  <thead>\n",
       "    <tr style=\"text-align: right;\">\n",
       "      <th></th>\n",
       "      <th>object_id</th>\n",
       "      <th>creation_source</th>\n",
       "      <th>opted_in_to_mailing_list</th>\n",
       "      <th>enabled_for_marketing_drip</th>\n",
       "      <th>history</th>\n",
       "      <th>account_age</th>\n",
       "    </tr>\n",
       "  </thead>\n",
       "  <tbody>\n",
       "    <tr>\n",
       "      <th>0</th>\n",
       "      <td>1</td>\n",
       "      <td>GUEST_INVITE</td>\n",
       "      <td>1</td>\n",
       "      <td>0</td>\n",
       "      <td>0.0</td>\n",
       "      <td>38</td>\n",
       "    </tr>\n",
       "    <tr>\n",
       "      <th>1</th>\n",
       "      <td>2</td>\n",
       "      <td>ORG_INVITE</td>\n",
       "      <td>0</td>\n",
       "      <td>0</td>\n",
       "      <td>136.0</td>\n",
       "      <td>196</td>\n",
       "    </tr>\n",
       "    <tr>\n",
       "      <th>2</th>\n",
       "      <td>3</td>\n",
       "      <td>ORG_INVITE</td>\n",
       "      <td>0</td>\n",
       "      <td>0</td>\n",
       "      <td>0.0</td>\n",
       "      <td>437</td>\n",
       "    </tr>\n",
       "    <tr>\n",
       "      <th>3</th>\n",
       "      <td>4</td>\n",
       "      <td>GUEST_INVITE</td>\n",
       "      <td>0</td>\n",
       "      <td>0</td>\n",
       "      <td>1.0</td>\n",
       "      <td>374</td>\n",
       "    </tr>\n",
       "    <tr>\n",
       "      <th>4</th>\n",
       "      <td>5</td>\n",
       "      <td>GUEST_INVITE</td>\n",
       "      <td>0</td>\n",
       "      <td>0</td>\n",
       "      <td>5.0</td>\n",
       "      <td>498</td>\n",
       "    </tr>\n",
       "  </tbody>\n",
       "</table>\n",
       "</div>"
      ],
      "text/plain": [
       "   object_id creation_source  opted_in_to_mailing_list  \\\n",
       "0          1    GUEST_INVITE                         1   \n",
       "1          2      ORG_INVITE                         0   \n",
       "2          3      ORG_INVITE                         0   \n",
       "3          4    GUEST_INVITE                         0   \n",
       "4          5    GUEST_INVITE                         0   \n",
       "\n",
       "   enabled_for_marketing_drip  history  account_age  \n",
       "0                           0      0.0           38  \n",
       "1                           0    136.0          196  \n",
       "2                           0      0.0          437  \n",
       "3                           0      1.0          374  \n",
       "4                           0      5.0          498  "
      ]
     },
     "execution_count": 19,
     "metadata": {},
     "output_type": "execute_result"
    }
   ],
   "source": [
    "df_users.head()"
   ]
  },
  {
   "cell_type": "code",
   "execution_count": 20,
   "id": "58ac3a2d",
   "metadata": {},
   "outputs": [
    {
     "name": "stdout",
     "output_type": "stream",
     "text": [
      "<class 'pandas.core.frame.DataFrame'>\n",
      "RangeIndex: 12000 entries, 0 to 11999\n",
      "Data columns (total 6 columns):\n",
      " #   Column                      Non-Null Count  Dtype  \n",
      "---  ------                      --------------  -----  \n",
      " 0   object_id                   12000 non-null  int64  \n",
      " 1   creation_source             12000 non-null  object \n",
      " 2   opted_in_to_mailing_list    12000 non-null  int64  \n",
      " 3   enabled_for_marketing_drip  12000 non-null  int64  \n",
      " 4   history                     8823 non-null   float64\n",
      " 5   account_age                 12000 non-null  int64  \n",
      "dtypes: float64(1), int64(4), object(1)\n",
      "memory usage: 562.6+ KB\n"
     ]
    }
   ],
   "source": [
    "df_users.info()"
   ]
  },
  {
   "cell_type": "markdown",
   "id": "d413562d",
   "metadata": {},
   "source": [
    "According to the challenge description, 8,823 users had 'user history' out of a total of 12,025 users. The challenge description did not clarify whether the remaining users' data was missing or nonexistent. However, since some users have a history of 0 days, I suspect the engagement data for these users is simply missing. Therefore, I will not analyze these users.\""
   ]
  },
  {
   "cell_type": "code",
   "execution_count": 21,
   "id": "1968348b",
   "metadata": {},
   "outputs": [
    {
     "name": "stdout",
     "output_type": "stream",
     "text": [
      "        creation_source  opted_in_to_mailing_list  enabled_for_marketing_drip  \\\n",
      "user_id                                                                         \n",
      "1          GUEST_INVITE                         1                           0   \n",
      "2            ORG_INVITE                         0                           0   \n",
      "3            ORG_INVITE                         0                           0   \n",
      "4          GUEST_INVITE                         0                           0   \n",
      "5          GUEST_INVITE                         0                           0   \n",
      "\n",
      "         history  account_age  adopted_user  \n",
      "user_id                                      \n",
      "1            0.0           38             0  \n",
      "2          136.0          196             1  \n",
      "3            0.0          437             0  \n",
      "4            1.0          374             0  \n",
      "5            5.0          498             0  \n"
     ]
    }
   ],
   "source": [
    "# Set the index of df_users to 'object_id' and rename it to 'user_id'\n",
    "df_users = df_users.set_index('object_id')\n",
    "df_users.index.name = 'user_id'\n",
    "\n",
    "# Concatenate df_users and adopted Series on the 'user_id' index, keeping only the rows present in both DataFrames\n",
    "data = pd.concat([df_users, adopted], axis=1, join='inner')\n",
    "\n",
    "# Convert the 'adopted_user' column to integers\n",
    "data['adopted_user'] = data['adopted_user'].astype(int)\n",
    "\n",
    "# Display the resulting DataFrame\n",
    "print(data.head())\n"
   ]
  },
  {
   "cell_type": "markdown",
   "id": "b67abe2a",
   "metadata": {},
   "source": [
    "## Exporatory Data Analysis (EDA)"
   ]
  },
  {
   "cell_type": "code",
   "execution_count": 22,
   "id": "fe1b828e",
   "metadata": {},
   "outputs": [
    {
     "data": {
      "image/png": "[encoded data removed]",
      "text/plain": [
       "<Figure size 640x480 with 1 Axes>"
      ]
     },
     "metadata": {},
     "output_type": "display_data"
    }
   ],
   "source": [
    "# Create a countplot for the 'creation_source' column with hue based on 'adopted_user'\n",
    "_ = sns.countplot(x='creation_source', data=data, hue='adopted_user')\n",
    "\n",
    "# Rotate x-axis labels for better readability\n",
    "_ = plt.xticks(rotation=90)\n",
    "\n",
    "# Show the plot\n",
    "plt.show()"
   ]
  },
  {
   "cell_type": "code",
   "execution_count": 23,
   "id": "c361b2cf",
   "metadata": {},
   "outputs": [
    {
     "name": "stdout",
     "output_type": "stream",
     "text": [
      "chi2 = 41.27933208242451\tp = 2.3526508745340972e-08\n"
     ]
    }
   ],
   "source": [
    "from scipy.stats import chi2_contingency\n",
    "\n",
    "# Create a crosstab of 'creation_source' and 'adopted_user'\n",
    "crosstab = pd.crosstab(data['creation_source'], data['adopted_user'])\n",
    "\n",
    "# Perform the Chi-squared test\n",
    "results = chi2_contingency(crosstab)\n",
    "\n",
    "# Print the test statistic (chi2) and the p-value\n",
    "print('chi2 = {}\\tp = {}'.format(results[0], results[1]))"
   ]
  },
  {
   "cell_type": "code",
   "execution_count": 24,
   "id": "d6eb0990",
   "metadata": {},
   "outputs": [
    {
     "name": "stdout",
     "output_type": "stream",
     "text": [
      "creation_source\n",
      "GUEST_INVITE          0.232368\n",
      "ORG_INVITE            0.180050\n",
      "PERSONAL_PROJECTS     0.225131\n",
      "SIGNUP                0.159115\n",
      "SIGNUP_GOOGLE_AUTH    0.172563\n",
      "Name: adopted_user, dtype: float64\n"
     ]
    }
   ],
   "source": [
    "# Calculate the proportion of adopted users for each 'creation_source'\n",
    "adopted_proportion = data.groupby('creation_source')['adopted_user'].apply(lambda x: sum(x) / len(x))\n",
    "\n",
    "# Display the result\n",
    "print(adopted_proportion)\n"
   ]
  },
  {
   "cell_type": "markdown",
   "id": "f9136f01",
   "metadata": {},
   "source": [
    "The \"adopted user\" rate in guest_invite and personal_projects is understandable because users who received invites were likely collaborating with others, and those with personal projects probably have a stronger personal interest, which makes them more engaged.\n"
   ]
  },
  {
   "cell_type": "code",
   "execution_count": 25,
   "id": "290a0751",
   "metadata": {},
   "outputs": [
    {
     "data": {
      "text/plain": [
       "opted_in_to_mailing_list\n",
       "0    0.185994\n",
       "1    0.192722\n",
       "Name: adopted_user, dtype: float64"
      ]
     },
     "execution_count": 25,
     "metadata": {},
     "output_type": "execute_result"
    }
   ],
   "source": [
    "# Calculate the proportion of adopted users for each 'opted_in_to_mailing_list' group\n",
    "data.groupby('opted_in_to_mailing_list')['adopted_user'].apply(lambda x: sum(x) / len(x))"
   ]
  },
  {
   "cell_type": "code",
   "execution_count": 26,
   "id": "d8f725b4",
   "metadata": {},
   "outputs": [
    {
     "name": "stdout",
     "output_type": "stream",
     "text": [
      "For opted_in_to_mailing_list, z = 0.7029779128148235, p = 0.4820695142048762\n"
     ]
    }
   ],
   "source": [
    "from statsmodels.stats.weightstats import CompareMeans\n",
    "\n",
    "# Define the z-test function\n",
    "def z_test(df, col, target='adopted_user'):\n",
    "    # Split the data into two groups based on the column value (1 or 0)\n",
    "    opted_in = df.loc[df[col] == 1, target]\n",
    "    opted_out = df.loc[df[col] == 0, target]\n",
    "    \n",
    "    # Create a CompareMeans object from the two groups\n",
    "    z_data = CompareMeans.from_data(opted_in, opted_out)\n",
    "    \n",
    "    # Perform the z-test\n",
    "    z, p = z_data.ztest_ind()\n",
    "    \n",
    "    # Print the results\n",
    "    print(f'For {col}, z = {z}, p = {p}')\n",
    "\n",
    "# Run the z-test on 'opted_in_to_mailing_list' column\n",
    "z_test(data, 'opted_in_to_mailing_list')\n"
   ]
  },
  {
   "cell_type": "code",
   "execution_count": 27,
   "id": "e933c8d3",
   "metadata": {},
   "outputs": [
    {
     "data": {
      "text/plain": [
       "enabled_for_marketing_drip\n",
       "0    0.186982\n",
       "1    0.191648\n",
       "Name: adopted_user, dtype: float64"
      ]
     },
     "execution_count": 27,
     "metadata": {},
     "output_type": "execute_result"
    }
   ],
   "source": [
    "# Calculate the proportion of adopted users for each 'enabled_for_marketing_drip' group\n",
    "data.groupby('enabled_for_marketing_drip')['adopted_user'].apply(lambda x: sum(x) / len(x))\n"
   ]
  },
  {
   "cell_type": "code",
   "execution_count": 28,
   "id": "29962fac",
   "metadata": {},
   "outputs": [
    {
     "name": "stdout",
     "output_type": "stream",
     "text": [
      "For enabled_for_marketing_drip, z = 0.40292649500940264, p = 0.6870022995069656\n"
     ]
    }
   ],
   "source": [
    "# Run the z-test on 'enabled_for_marketing_drip' column\n",
    "z_test(data, 'enabled_for_marketing_drip')"
   ]
  },
  {
   "cell_type": "markdown",
   "id": "4f80e322",
   "metadata": {},
   "source": [
    "There was essentially no difference between users who signed up for the mailing list and marketing drip and those who did not."
   ]
  },
  {
   "cell_type": "code",
   "execution_count": 29,
   "id": "a2741abb",
   "metadata": {},
   "outputs": [
    {
     "data": {
      "image/png": "[encoded data removed]",
      "text/plain": [
       "<Figure size 640x480 with 1 Axes>"
      ]
     },
     "metadata": {},
     "output_type": "display_data"
    }
   ],
   "source": [
    "# Define the function to plot the histogram\n",
    "def plot_hist_days(df, col, xlabel):\n",
    "    # Plot histogram for adopted users (adopted_user == 1)\n",
    "    plt.hist(df.loc[df['adopted_user'] == 1, col], \n",
    "             bins=30, alpha=0.3, color='b', label='adopted user')\n",
    "    \n",
    "    # Plot histogram for non-adopted users (adopted_user == 0)\n",
    "    plt.hist(df.loc[df['adopted_user'] == 0, col], \n",
    "             bins=30, alpha=0.3, color='g', label='non adopted user')\n",
    "    \n",
    "    # Set log scale for the y-axis\n",
    "    plt.yscale('log')\n",
    "    \n",
    "    # Add legend\n",
    "    plt.legend()\n",
    "    \n",
    "    # Label the x and y axes\n",
    "    plt.xlabel(xlabel)\n",
    "    plt.ylabel('No. of users')\n",
    "    \n",
    "    # Set custom y-ticks for better visibility\n",
    "    plt.yticks([1, 10, 100, 1000], ['1', '10', '100', '1000'])\n",
    "    \n",
    "    # Show the plot\n",
    "    plt.show()\n",
    "\n",
    "# Call the function to plot user history\n",
    "plot_hist_days(data, 'history', 'user history (days)')"
   ]
  },
  {
   "cell_type": "markdown",
   "id": "b752dde5",
   "metadata": {},
   "source": [
    "Users with long history are more likely to be adopted users."
   ]
  },
  {
   "cell_type": "code",
   "execution_count": 30,
   "id": "63fdf5d0",
   "metadata": {},
   "outputs": [
    {
     "data": {
      "image/png": "[encoded data removed]",
      "text/plain": [
       "<Figure size 640x480 with 1 Axes>"
      ]
     },
     "metadata": {},
     "output_type": "display_data"
    }
   ],
   "source": [
    "plot_hist_days(data, 'account_age', 'account age(days)')"
   ]
  },
  {
   "cell_type": "markdown",
   "id": "69c86e18",
   "metadata": {},
   "source": [
    "The adoption rate is lower for very new accounts. Aside from that, there hasn't been much change in the adoption rate over the past two years."
   ]
  },
  {
   "cell_type": "markdown",
   "id": "c693e04b",
   "metadata": {},
   "source": [
    "## Predictive Modeling"
   ]
  },
  {
   "cell_type": "code",
   "execution_count": 31,
   "id": "e63e0dfe",
   "metadata": {},
   "outputs": [],
   "source": [
    "from sklearn.model_selection import train_test_split\n",
    "\n",
    "# Create dummy variables for the 'creation_source' column (categorical feature)\n",
    "creation_source = pd.get_dummies(data['creation_source'], drop_first=True)\n",
    "\n",
    "# Combine the dummy variables with the original dataset and drop the original 'creation_source' column\n",
    "model_data = pd.concat([data, creation_source], axis=1).drop('creation_source', axis=1)\n",
    "\n",
    "# Define the target variable (y) and features (X)\n",
    "y = model_data['adopted_user']  # Target: whether the user is adopted (1 or 0)\n",
    "X = model_data.drop('adopted_user', axis=1)  # Features: all other columns except 'adopted_user'\n",
    "\n",
    "# Split the data into training and testing sets\n",
    "Xtrain, Xtest, ytrain, ytest = train_test_split(\n",
    "    X, y, stratify=y, random_state=42\n",
    ")\n"
   ]
  },
  {
   "cell_type": "markdown",
   "id": "0a83a0f3",
   "metadata": {},
   "source": [
    "### Random forest classifier"
   ]
  },
  {
   "cell_type": "code",
   "execution_count": 32,
   "id": "6ef8c4e3",
   "metadata": {},
   "outputs": [
    {
     "name": "stdout",
     "output_type": "stream",
     "text": [
      "Best parameters were {'n_estimators': 200}\n",
      "Best average precision was 0.9622190937469315\n"
     ]
    }
   ],
   "source": [
    "from sklearn.ensemble import RandomForestClassifier\n",
    "from sklearn.model_selection import GridSearchCV\n",
    "\n",
    "# Initialize the Random Forest Classifier with balanced class weights\n",
    "clf = RandomForestClassifier(random_state=42, class_weight='balanced')\n",
    "\n",
    "# Define the hyperparameters for tuning (number of estimators/trees in the forest)\n",
    "params = {'n_estimators': [10, 50, 100, 200]}\n",
    "\n",
    "# Use GridSearchCV to search for the best number of estimators based on cross-validation performance\n",
    "model = GridSearchCV(clf, params)\n",
    "\n",
    "# Fit the model to the training data\n",
    "model.fit(Xtrain, ytrain)\n",
    "\n",
    "# Print the best parameters and the best average precision score from cross-validation\n",
    "print('Best parameters were', model.best_params_)\n",
    "print('Best average precision was', model.best_score_)"
   ]
  },
  {
   "cell_type": "code",
   "execution_count": 33,
   "id": "2ebace6b",
   "metadata": {},
   "outputs": [
    {
     "name": "stdout",
     "output_type": "stream",
     "text": [
      "Accuracy of test set was 0.9524025385312783\n",
      "              precision    recall  f1-score   support\n",
      "\n",
      "           0       0.97      0.97      0.97      1792\n",
      "           1       0.89      0.86      0.87       414\n",
      "\n",
      "    accuracy                           0.95      2206\n",
      "   macro avg       0.93      0.92      0.92      2206\n",
      "weighted avg       0.95      0.95      0.95      2206\n",
      "\n"
     ]
    }
   ],
   "source": [
    "from sklearn.metrics import classification_report, accuracy_score\n",
    "\n",
    "# Initialize the Random Forest Classifier with balanced class weights and 100 estimators\n",
    "model = RandomForestClassifier(\n",
    "    random_state=42, class_weight='balanced', n_estimators=100\n",
    ")\n",
    "\n",
    "# Fit the model on the training data\n",
    "model.fit(Xtrain, ytrain)\n",
    "\n",
    "# Predict the labels for the test set\n",
    "ypred = model.predict(Xtest)\n",
    "\n",
    "# Calculate and print accuracy score on the test set\n",
    "print('Accuracy of test set was', accuracy_score(ytest, ypred))\n",
    "\n",
    "# Print the classification report for more detailed performance metrics\n",
    "print(classification_report(ytest, ypred))\n"
   ]
  },
  {
   "cell_type": "code",
   "execution_count": 34,
   "id": "74296e67",
   "metadata": {},
   "outputs": [
    {
     "name": "stdout",
     "output_type": "stream",
     "text": [
      "history                       0.896215\n",
      "account_age                   0.088288\n",
      "opted_in_to_mailing_list      0.003251\n",
      "SIGNUP                        0.003185\n",
      "enabled_for_marketing_drip    0.002760\n",
      "ORG_INVITE                    0.002308\n",
      "PERSONAL_PROJECTS             0.002092\n",
      "SIGNUP_GOOGLE_AUTH            0.001901\n",
      "dtype: float64\n"
     ]
    }
   ],
   "source": [
    "# Get the feature importances from the trained model\n",
    "feature_imp = pd.Series(model.feature_importances_, index=X.columns)\n",
    "\n",
    "# Sort the feature importances in descending order\n",
    "feature_imp = feature_imp.sort_values(ascending=False)\n",
    "\n",
    "# Print the sorted feature importances\n",
    "print(feature_imp)"
   ]
  },
  {
   "cell_type": "markdown",
   "id": "87f17c61",
   "metadata": {},
   "source": [
    "It's evident that user history is the most significant factor for adopted users. To take advantage of this, encouraging users to stay engaged and log in after they've had their accounts for a while could be an effective way to increase users.\n",
    "\n",
    "The next most important factor is how users sign up. When you look at the different sign-up methods, guest invitations and personal projects stand out as having the highest adoption rates. So, getting users to invite others and incentivizing them to work on personal projects could be a good strategy to increase adoption.\n",
    "\n",
    "Account age matters a bit, but there’s not much we can do to influence that.\n",
    "\n",
    "On the other hand, things like mailing list sign-ups and marketing drips don’t seem to make much of a difference in terms of adoption."
   ]
  }
 ],
 "metadata": {
  "kernelspec": {
   "display_name": "Python 3 (ipykernel)",
   "language": "python",
   "name": "python3"
  },
  "language_info": {
   "codemirror_mode": {
    "name": "ipython",
    "version": 3
   },
   "file_extension": ".py",
   "mimetype": "text/x-python",
   "name": "python",
   "nbconvert_exporter": "python",
   "pygments_lexer": "ipython3",
   "version": "3.11.5"
  }
 },
 "nbformat": 4,
 "nbformat_minor": 5
}
