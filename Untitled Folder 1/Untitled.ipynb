{
 "cells": [
  {
   "cell_type": "code",
   "execution_count": 3,
   "id": "d3ee98e8",
   "metadata": {},
   "outputs": [
    {
     "name": "stdout",
     "output_type": "stream",
     "text": [
      "20\n",
      "20\n"
     ]
    }
   ],
   "source": [
    "def outer_function():\n",
    "    x = 10  # Variable in the enclosing scope\n",
    "\n",
    "    def inner_function():\n",
    "        nonlocal x  # Indicates we want to modify the variable from the enclosing scope\n",
    "        x = 20\n",
    "        print(x)  # Modified x\n",
    "\n",
    "    inner_function()\n",
    "    print(x)  # x is now 20 because it was modified by the inner function\n",
    "\n",
    "outer_function()\n"
   ]
  },
  {
   "cell_type": "code",
   "execution_count": null,
   "id": "3ab21050",
   "metadata": {},
   "outputs": [],
   "source": [
    "# create dummy variable of the 'Card_Category' colomn\n",
    "#Card_Category = pd.get_dummies(df_cleaned, columns=['Card_Category'], prefix='CC')\n",
    "\n",
    "#df_cleaned[Card_Category.columns] = Card_Category\n",
    "\n",
    "#df_cleaned.info()\n",
    "\n",
    "#X,y = df_cleaned.drop(['Attrition_Flag'], axis=1), df_cleaned['Attrition_Flag']\n",
    "\n",
    "# Split the data into training and testing sets\n",
    "#X_train, X_test, y_train, y_test= train_test_split(X,y, test_size=.2,random_state=42, stratify=y)"
   ]
  },
  {
   "cell_type": "code",
   "execution_count": null,
   "id": "92969241",
   "metadata": {},
   "outputs": [],
   "source": []
  },
  {
   "cell_type": "code",
   "execution_count": null,
   "id": "b9b9951f",
   "metadata": {},
   "outputs": [],
   "source": [
    "#le = LabelEncoder()"
   ]
  },
  {
   "cell_type": "code",
   "execution_count": null,
   "id": "a9bb654a",
   "metadata": {},
   "outputs": [],
   "source": [
    "# Iterate through each column in the training set\n",
    "#for col in X_train.columns:  \n",
    "#    if X_train[col].dtype == 'object':  # Check if the column is categorical (dtype is 'object')\n",
    "        \n",
    "#        # Apply LabelEncoder to the training and testing set for the categorical column\n",
    "#        X_train[col] = le.fit_transform(X_train[col])\n",
    "#        X_test[col] = le.fit_transform(X_test[col])"
   ]
  },
  {
   "cell_type": "code",
   "execution_count": null,
   "id": "8b8c97ce",
   "metadata": {},
   "outputs": [],
   "source": []
  },
  {
   "cell_type": "code",
   "execution_count": null,
   "id": "f35a64ad",
   "metadata": {},
   "outputs": [],
   "source": []
  },
  {
   "cell_type": "code",
   "execution_count": null,
   "id": "53fe4758",
   "metadata": {},
   "outputs": [],
   "source": [
    "# Initialize the models\n",
    "models = {\n",
    "    \"Naive Bayes\": GaussianNB(),\n",
    "    \"Random Forest\": RandomForestClassifier(random_state=42),\n",
    "    \"Logistic Regression\": LogisticRegression(random_state=42),\n",
    "    \"SVM\": SVC(random_state=42, probability=True)  # Enable probability for SVC\n",
    "}\n",
    "\n",
    "# Define a dictionary to store the results\n",
    "results = {}\n",
    "\n",
    "# Train, evaluate, and perform cross-validation for each model\n",
    "for model_name, model in models.items():\n",
    "    # Train the model\n",
    "    model.fit(X_train, y_train)\n",
    "    \n",
    "    # Make predictions on the test set\n",
    "    y_pred = model.predict(X_test)\n",
    "    \n",
    "    # Calculate performance metrics\n",
    "    accuracy = accuracy_score(y_test, y_pred)\n",
    "    precision = precision_score(y_test, y_pred)\n",
    "    recall = recall_score(y_test, y_pred)\n",
    "    f1 = f1_score(y_test, y_pred)\n",
    "    \n",
    "    # For models that support it (like SVM), calculate ROC AUC score\n",
    "    if hasattr(model, \"predict_proba\"):\n",
    "        auc = roc_auc_score(y_test, model.predict_proba(X_test)[:, 1])  # ROC AUC score\n",
    "    else:\n",
    "        auc = None  # For models that don't support predict_proba\n",
    "    \n",
    "    # Store the results\n",
    "    results[model_name] = {\n",
    "        \"Accuracy\": accuracy,\n",
    "        \"Precision\": precision,\n",
    "        \"Recall\": recall,\n",
    "        \"F1 Score\": f1,\n",
    "        \"ROC AUC\": auc\n",
    "    }\n",
    "    \n",
    "    # Cross-validation score (using accuracy for evaluation)\n",
    "    cross_val_score_mean = np.mean(cross_val_score(model, X_train, y_train, cv=5, scoring='accuracy'))  # 5-fold cross-validation\n",
    "    results[model_name][\"Cross-Validation Accuracy\"] = cross_val_score_mean\n",
    "\n",
    "# Convert the results into a DataFrame for better visualization\n",
    "results_df = pd.DataFrame(results).T\n",
    "print(results_df)\n",
    "\n",
    "# Visualizing the performance of each model\n",
    "results_df.plot(kind=\"bar\", figsize=(12, 6), title=\"Model Performance with Cross-Validation\")\n",
    "plt.ylabel('Score')\n",
    "plt.xticks(rotation=45)\n",
    "plt.show()\n",
    "\n",
    "# Optionally, display classification report for the best model\n",
    "best_model_name = results_df['F1 Score'].idxmax()\n",
    "best_model = models[best_model_name]\n",
    "y_pred_best = best_model.predict(X_test)\n",
    "print(f\"Classification Report for the best model ({best_model_name}):\")\n",
    "print(classification_report(y_test, y_pred_best))"
   ]
  },
  {
   "cell_type": "code",
   "execution_count": null,
   "id": "540fed07",
   "metadata": {},
   "outputs": [],
   "source": [
    "LOGREG"
   ]
  },
  {
   "cell_type": "code",
   "execution_count": null,
   "id": "2c6dd109",
   "metadata": {},
   "outputs": [],
   "source": [
    "# Evaluation for Tuned Logistic Regression\n",
    "y_pred_log_final = log_model.predict(X_test)\n",
    "print(\"Logistic Regression Classification Report:\")\n",
    "print(classification_report(y_test, y_pred_log_final))"
   ]
  },
  {
   "cell_type": "code",
   "execution_count": null,
   "id": "14cac6e0",
   "metadata": {},
   "outputs": [],
   "source": []
  },
  {
   "cell_type": "code",
   "execution_count": null,
   "id": "d70cfaad",
   "metadata": {},
   "outputs": [],
   "source": [
    "SVM"
   ]
  },
  {
   "cell_type": "code",
   "execution_count": null,
   "id": "9e7d5ec2",
   "metadata": {},
   "outputs": [],
   "source": [
    "\n",
    "# Calculate and print the accuracy score\n",
    "accuracy = accuracy_score(y_test, y_pred)\n",
    "print(f\"SVM Accuracy: {accuracy}\")"
   ]
  },
  {
   "cell_type": "code",
   "execution_count": null,
   "id": "5b932c29",
   "metadata": {},
   "outputs": [],
   "source": [
    "# Evaluation for Tuned SVM\n",
    "y_pred_svm_final = svm_model.predict(X_test)\n",
    "print(\"SVM Classification Report:\")\n",
    "print(classification_report(y_test, y_pred_svm_final))"
   ]
  },
  {
   "cell_type": "code",
   "execution_count": null,
   "id": "cdb0dbcf",
   "metadata": {},
   "outputs": [],
   "source": [
    "# Cross-validation for SVM\n",
    "svm_cv_scores = cross_val_score(svm_model, X, y, cv=10, scoring='accuracy')\n",
    "print(f\"SVM Cross-validation Mean Accuracy: {svm_cv_scores.mean()}\")"
   ]
  },
  {
   "cell_type": "code",
   "execution_count": null,
   "id": "d8dbe6f9",
   "metadata": {},
   "outputs": [],
   "source": []
  },
  {
   "cell_type": "code",
   "execution_count": null,
   "id": "e5e9012c",
   "metadata": {},
   "outputs": [],
   "source": [
    "NBM"
   ]
  },
  {
   "cell_type": "code",
   "execution_count": null,
   "id": "f30136b4",
   "metadata": {},
   "outputs": [],
   "source": [
    "# Cross-validation for Naive Bayes\n",
    "nb_cv_scores = cross_val_score(nb_model, X, y, cv=10, scoring='accuracy')"
   ]
  },
  {
   "cell_type": "code",
   "execution_count": null,
   "id": "dada84cd",
   "metadata": {},
   "outputs": [],
   "source": []
  },
  {
   "cell_type": "code",
   "execution_count": null,
   "id": "0d623f4b",
   "metadata": {},
   "outputs": [],
   "source": []
  },
  {
   "cell_type": "code",
   "execution_count": null,
   "id": "ec12510f",
   "metadata": {},
   "outputs": [],
   "source": [
    "# Create a confusion matrix\n",
    "cm = confusion_matrix(y_test, y_pred)\n",
    "\n",
    "# Create a heatmap using Seaborn to visualize the confusion matrix\n",
    "sns.heatmap(\n",
    "    cm,                  # Confusion matrix data\n",
    "    annot=True,          # Annotate the cells with the numeric values\n",
    "    fmt='d',             # Display the numbers as integers\n",
    "    cmap='Blues',        # Color map for the heatmap (Blues gives shades of blue)\n",
    "    xticklabels=['0', '1'],  # Label for x-axis (Predicted classes)\n",
    "    yticklabels=['0', '1'],  # Label for y-axis (True classes)\n",
    ")\n",
    "\n",
    "# Labels for the axes and title\n",
    "plt.xlabel('Predicted')\n",
    "plt.ylabel('True')\n",
    "plt.title('Confusion Matrix')\n",
    "\n",
    "# Show the plot\n",
    "plt.show()"
   ]
  },
  {
   "cell_type": "code",
   "execution_count": null,
   "id": "5662aae5",
   "metadata": {},
   "outputs": [],
   "source": [
    "print(f'Accuracy of The model: {accuracy_score(y_test, y_pred)*100:.2f} %')\n",
    "print(f'Precision Score of The model: {precision_score(y_test, y_pred)*100:.2f} %')\n",
    "print(f'Recall Score of The model: {recall_score(y_test, y_pred)*100:.2f} %')\n",
    "print(f'F1 Score of The model: {f1_score(y_test, y_pred)*100:.2f} %')\n",
    "print(f\"Naive Bayes Cross-validation Mean Accuracy: {nb_cv_scores.mean()}\")"
   ]
  },
  {
   "cell_type": "code",
   "execution_count": null,
   "id": "77f8db3c",
   "metadata": {},
   "outputs": [],
   "source": []
  },
  {
   "cell_type": "code",
   "execution_count": null,
   "id": "e9da848a",
   "metadata": {},
   "outputs": [],
   "source": []
  },
  {
   "cell_type": "code",
   "execution_count": null,
   "id": "f9b63909",
   "metadata": {},
   "outputs": [],
   "source": []
  },
  {
   "cell_type": "code",
   "execution_count": null,
   "id": "540b79f6",
   "metadata": {},
   "outputs": [],
   "source": []
  },
  {
   "cell_type": "code",
   "execution_count": null,
   "id": "242f0743",
   "metadata": {},
   "outputs": [],
   "source": []
  },
  {
   "cell_type": "code",
   "execution_count": null,
   "id": "b3cda159",
   "metadata": {},
   "outputs": [],
   "source": []
  },
  {
   "cell_type": "code",
   "execution_count": null,
   "id": "ed05f250",
   "metadata": {},
   "outputs": [],
   "source": []
  },
  {
   "cell_type": "code",
   "execution_count": null,
   "id": "881d81fe",
   "metadata": {},
   "outputs": [],
   "source": []
  },
  {
   "cell_type": "code",
   "execution_count": null,
   "id": "54eef002",
   "metadata": {},
   "outputs": [],
   "source": []
  },
  {
   "cell_type": "code",
   "execution_count": null,
   "id": "d2d032c0",
   "metadata": {},
   "outputs": [],
   "source": []
  },
  {
   "cell_type": "code",
   "execution_count": null,
   "id": "f1fd27d2",
   "metadata": {},
   "outputs": [],
   "source": []
  }
 ],
 "metadata": {
  "kernelspec": {
   "display_name": "Python 3 (ipykernel)",
   "language": "python",
   "name": "python3"
  },
  "language_info": {
   "codemirror_mode": {
    "name": "ipython",
    "version": 3
   },
   "file_extension": ".py",
   "mimetype": "text/x-python",
   "name": "python",
   "nbconvert_exporter": "python",
   "pygments_lexer": "ipython3",
   "version": "3.11.5"
  }
 },
 "nbformat": 4,
 "nbformat_minor": 5
}
