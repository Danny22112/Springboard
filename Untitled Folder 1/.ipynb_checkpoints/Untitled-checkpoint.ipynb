{
 "cells": [
  {
   "cell_type": "code",
   "execution_count": 3,
   "id": "47f0d809",
   "metadata": {},
   "outputs": [
    {
     "name": "stdout",
     "output_type": "stream",
     "text": [
      "20\n",
      "20\n"
     ]
    }
   ],
   "source": [
    "def outer_function():\n",
    "    x = 10  # Variable in the enclosing scope\n",
    "\n",
    "    def inner_function():\n",
    "        nonlocal x  # Indicates we want to modify the variable from the enclosing scope\n",
    "        x = 20\n",
    "        print(x)  # Modified x\n",
    "\n",
    "    inner_function()\n",
    "    print(x)  # x is now 20 because it was modified by the inner function\n",
    "\n",
    "outer_function()\n"
   ]
  },
  {
   "cell_type": "code",
   "execution_count": null,
   "id": "1c4deac9",
   "metadata": {},
   "outputs": [],
   "source": [
    "# create dummy variable of the 'Card_Category' colomn\n",
    "#Card_Category = pd.get_dummies(df_cleaned, columns=['Card_Category'], prefix='CC')\n",
    "\n",
    "#df_cleaned[Card_Category.columns] = Card_Category\n",
    "\n",
    "#df_cleaned.info()\n",
    "\n",
    "#X,y = df_cleaned.drop(['Attrition_Flag'], axis=1), df_cleaned['Attrition_Flag']\n",
    "\n",
    "# Split the data into training and testing sets\n",
    "#X_train, X_test, y_train, y_test= train_test_split(X,y, test_size=.2,random_state=42, stratify=y)"
   ]
  }
 ],
 "metadata": {
  "kernelspec": {
   "display_name": "Python 3 (ipykernel)",
   "language": "python",
   "name": "python3"
  },
  "language_info": {
   "codemirror_mode": {
    "name": "ipython",
    "version": 3
   },
   "file_extension": ".py",
   "mimetype": "text/x-python",
   "name": "python",
   "nbconvert_exporter": "python",
   "pygments_lexer": "ipython3",
   "version": "3.11.5"
  }
 },
 "nbformat": 4,
 "nbformat_minor": 5
}
