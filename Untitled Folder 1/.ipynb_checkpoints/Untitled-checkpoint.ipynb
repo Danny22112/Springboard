{
 "cells": [
  {
   "cell_type": "code",
   "execution_count": null,
   "id": "7cf23745",
   "metadata": {},
   "outputs": [],
   "source": [
    "eda"
   ]
  },
  {
   "cell_type": "code",
   "execution_count": null,
   "id": "42467515",
   "metadata": {},
   "outputs": [],
   "source": []
  },
  {
   "cell_type": "code",
   "execution_count": null,
   "id": "c3f160a8",
   "metadata": {},
   "outputs": [],
   "source": [
    "import plotly.graph_objects as go\n",
    "from plotly.subplots import make_subplots\n",
    "\n",
    "# Select only numeric columns\n",
    "numeric_cols = df.select_dtypes(include=['float64', 'int64']).columns\n",
    "\n",
    "# Calculate number of rows and columns needed for the subplot grid\n",
    "num_cols = len(numeric_cols)\n",
    "num_rows = 3  # Split into 2 rows\n",
    "\n",
    "# If there are an odd number of columns, add an extra column to the second row\n",
    "num_cols_per_row = num_cols // num_rows + (num_cols % num_rows)\n",
    "\n",
    "# Create the subplot figure with two rows\n",
    "fig = make_subplots(rows=num_rows, cols=num_cols_per_row, \n",
    "                    subplot_titles=[col for col in numeric_cols])\n",
    "\n",
    "# Add a boxplot for each numeric column\n",
    "for i, col in enumerate(numeric_cols):\n",
    "    row = (i // num_cols_per_row) + 1  # Determine the row for this boxplot\n",
    "    col_pos = (i % num_cols_per_row) + 1  # Determine the column position\n",
    "    fig.add_trace(\n",
    "        go.Box(y=df[col], name=col),  # Create a boxplot for the column\n",
    "        row=row, col=col_pos  # Place it in the correct row and column\n",
    "    )\n",
    "\n",
    "# Update layout\n",
    "fig.update_layout(\n",
    "    title=\"Boxplots for Numeric Columns\",\n",
    "    showlegend=False,\n",
    "    height=800,  # Adjust the figure height\n",
    "    width=1200,  # Adjust the figure width\n",
    ")\n",
    "\n",
    "# Show the figure\n",
    "fig.show()\n",
    "\n"
   ]
  },
  {
   "cell_type": "code",
   "execution_count": null,
   "id": "909ef2e9",
   "metadata": {},
   "outputs": [],
   "source": []
  },
  {
   "cell_type": "code",
   "execution_count": 3,
   "id": "7ca4c341",
   "metadata": {},
   "outputs": [
    {
     "name": "stdout",
     "output_type": "stream",
     "text": [
      "20\n",
      "20\n"
     ]
    }
   ],
   "source": [
    "def outer_function():\n",
    "    x = 10  # Variable in the enclosing scope\n",
    "\n",
    "    def inner_function():\n",
    "        nonlocal x  # Indicates we want to modify the variable from the enclosing scope\n",
    "        x = 20\n",
    "        print(x)  # Modified x\n",
    "\n",
    "    inner_function()\n",
    "    print(x)  # x is now 20 because it was modified by the inner function\n",
    "\n",
    "outer_function()\n"
   ]
  },
  {
   "cell_type": "code",
   "execution_count": null,
   "id": "6c5293aa",
   "metadata": {},
   "outputs": [],
   "source": [
    "# create dummy variable of the 'Card_Category' colomn\n",
    "#Card_Category = pd.get_dummies(df_cleaned, columns=['Card_Category'], prefix='CC')\n",
    "\n",
    "#df_cleaned[Card_Category.columns] = Card_Category\n",
    "\n",
    "#df_cleaned.info()\n",
    "\n",
    "#X,y = df_cleaned.drop(['Attrition_Flag'], axis=1), df_cleaned['Attrition_Flag']\n",
    "\n",
    "# Split the data into training and testing sets\n",
    "#X_train, X_test, y_train, y_test= train_test_split(X,y, test_size=.2,random_state=42, stratify=y)"
   ]
  },
  {
   "cell_type": "code",
   "execution_count": null,
   "id": "8f43df01",
   "metadata": {},
   "outputs": [],
   "source": []
  },
  {
   "cell_type": "code",
   "execution_count": null,
   "id": "ab728782",
   "metadata": {},
   "outputs": [],
   "source": [
    "#le = LabelEncoder()"
   ]
  },
  {
   "cell_type": "code",
   "execution_count": null,
   "id": "0e7f0a3d",
   "metadata": {},
   "outputs": [],
   "source": [
    "# Iterate through each column in the training set\n",
    "#for col in X_train.columns:  \n",
    "#    if X_train[col].dtype == 'object':  # Check if the column is categorical (dtype is 'object')\n",
    "        \n",
    "#        # Apply LabelEncoder to the training and testing set for the categorical column\n",
    "#        X_train[col] = le.fit_transform(X_train[col])\n",
    "#        X_test[col] = le.fit_transform(X_test[col])"
   ]
  },
  {
   "cell_type": "code",
   "execution_count": null,
   "id": "b37a0748",
   "metadata": {},
   "outputs": [],
   "source": []
  },
  {
   "cell_type": "code",
   "execution_count": null,
   "id": "2e21dcb9",
   "metadata": {},
   "outputs": [],
   "source": []
  },
  {
   "cell_type": "code",
   "execution_count": null,
   "id": "bcbac74f",
   "metadata": {},
   "outputs": [],
   "source": [
    "# Initialize the models\n",
    "models = {\n",
    "    \"Naive Bayes\": GaussianNB(),\n",
    "    \"Random Forest\": RandomForestClassifier(random_state=42),\n",
    "    \"Logistic Regression\": LogisticRegression(random_state=42),\n",
    "    \"SVM\": SVC(random_state=42, probability=True)  # Enable probability for SVC\n",
    "}\n",
    "\n",
    "# Define a dictionary to store the results\n",
    "results = {}\n",
    "\n",
    "# Train, evaluate, and perform cross-validation for each model\n",
    "for model_name, model in models.items():\n",
    "    # Train the model\n",
    "    model.fit(X_train, y_train)\n",
    "    \n",
    "    # Make predictions on the test set\n",
    "    y_pred = model.predict(X_test)\n",
    "    \n",
    "    # Calculate performance metrics\n",
    "    accuracy = accuracy_score(y_test, y_pred)\n",
    "    precision = precision_score(y_test, y_pred)\n",
    "    recall = recall_score(y_test, y_pred)\n",
    "    f1 = f1_score(y_test, y_pred)\n",
    "    \n",
    "    # For models that support it (like SVM), calculate ROC AUC score\n",
    "    if hasattr(model, \"predict_proba\"):\n",
    "        auc = roc_auc_score(y_test, model.predict_proba(X_test)[:, 1])  # ROC AUC score\n",
    "    else:\n",
    "        auc = None  # For models that don't support predict_proba\n",
    "    \n",
    "    # Store the results\n",
    "    results[model_name] = {\n",
    "        \"Accuracy\": accuracy,\n",
    "        \"Precision\": precision,\n",
    "        \"Recall\": recall,\n",
    "        \"F1 Score\": f1,\n",
    "        \"ROC AUC\": auc\n",
    "    }\n",
    "    \n",
    "    # Cross-validation score (using accuracy for evaluation)\n",
    "    cross_val_score_mean = np.mean(cross_val_score(model, X_train, y_train, cv=5, scoring='accuracy'))  # 5-fold cross-validation\n",
    "    results[model_name][\"Cross-Validation Accuracy\"] = cross_val_score_mean\n",
    "\n",
    "# Convert the results into a DataFrame for better visualization\n",
    "results_df = pd.DataFrame(results).T\n",
    "print(results_df)\n",
    "\n",
    "# Visualizing the performance of each model\n",
    "results_df.plot(kind=\"bar\", figsize=(12, 6), title=\"Model Performance with Cross-Validation\")\n",
    "plt.ylabel('Score')\n",
    "plt.xticks(rotation=45)\n",
    "plt.show()\n",
    "\n",
    "# Optionally, display classification report for the best model\n",
    "best_model_name = results_df['F1 Score'].idxmax()\n",
    "best_model = models[best_model_name]\n",
    "y_pred_best = best_model.predict(X_test)\n",
    "print(f\"Classification Report for the best model ({best_model_name}):\")\n",
    "print(classification_report(y_test, y_pred_best))"
   ]
  },
  {
   "cell_type": "code",
   "execution_count": null,
   "id": "d80a41b9",
   "metadata": {},
   "outputs": [],
   "source": [
    "LOGREG"
   ]
  },
  {
   "cell_type": "code",
   "execution_count": null,
   "id": "84ad2743",
   "metadata": {},
   "outputs": [],
   "source": [
    "# Evaluation for Tuned Logistic Regression\n",
    "y_pred_log_final = log_model.predict(X_test)\n",
    "print(\"Logistic Regression Classification Report:\")\n",
    "print(classification_report(y_test, y_pred_log_final))"
   ]
  },
  {
   "cell_type": "code",
   "execution_count": null,
   "id": "40e0d9c2",
   "metadata": {},
   "outputs": [],
   "source": []
  },
  {
   "cell_type": "code",
   "execution_count": null,
   "id": "1b685745",
   "metadata": {},
   "outputs": [],
   "source": [
    "SVM"
   ]
  },
  {
   "cell_type": "code",
   "execution_count": null,
   "id": "a710b167",
   "metadata": {},
   "outputs": [],
   "source": [
    "\n",
    "# Calculate and print the accuracy score\n",
    "accuracy = accuracy_score(y_test, y_pred)\n",
    "print(f\"SVM Accuracy: {accuracy}\")"
   ]
  },
  {
   "cell_type": "code",
   "execution_count": null,
   "id": "2e3dd4cb",
   "metadata": {},
   "outputs": [],
   "source": [
    "# Evaluation for Tuned SVM\n",
    "y_pred_svm_final = svm_model.predict(X_test)\n",
    "print(\"SVM Classification Report:\")\n",
    "print(classification_report(y_test, y_pred_svm_final))"
   ]
  },
  {
   "cell_type": "code",
   "execution_count": null,
   "id": "8905e0c4",
   "metadata": {},
   "outputs": [],
   "source": [
    "# Cross-validation for SVM\n",
    "svm_cv_scores = cross_val_score(svm_model, X, y, cv=10, scoring='accuracy')\n",
    "print(f\"SVM Cross-validation Mean Accuracy: {svm_cv_scores.mean()}\")"
   ]
  },
  {
   "cell_type": "code",
   "execution_count": null,
   "id": "b403fda7",
   "metadata": {},
   "outputs": [],
   "source": []
  },
  {
   "cell_type": "code",
   "execution_count": null,
   "id": "cba673e9",
   "metadata": {},
   "outputs": [],
   "source": [
    "NBM"
   ]
  },
  {
   "cell_type": "code",
   "execution_count": null,
   "id": "dc2cc9d4",
   "metadata": {},
   "outputs": [],
   "source": [
    "# Cross-validation for Naive Bayes\n",
    "nb_cv_scores = cross_val_score(nb_model, X, y, cv=10, scoring='accuracy')"
   ]
  },
  {
   "cell_type": "code",
   "execution_count": null,
   "id": "cd05a719",
   "metadata": {},
   "outputs": [],
   "source": []
  },
  {
   "cell_type": "code",
   "execution_count": null,
   "id": "98e2fd4d",
   "metadata": {},
   "outputs": [],
   "source": []
  },
  {
   "cell_type": "code",
   "execution_count": null,
   "id": "919ecc59",
   "metadata": {},
   "outputs": [],
   "source": [
    "# Create a confusion matrix\n",
    "cm = confusion_matrix(y_test, y_pred)\n",
    "\n",
    "# Create a heatmap using Seaborn to visualize the confusion matrix\n",
    "sns.heatmap(\n",
    "    cm,                  # Confusion matrix data\n",
    "    annot=True,          # Annotate the cells with the numeric values\n",
    "    fmt='d',             # Display the numbers as integers\n",
    "    cmap='Blues',        # Color map for the heatmap (Blues gives shades of blue)\n",
    "    xticklabels=['0', '1'],  # Label for x-axis (Predicted classes)\n",
    "    yticklabels=['0', '1'],  # Label for y-axis (True classes)\n",
    ")\n",
    "\n",
    "# Labels for the axes and title\n",
    "plt.xlabel('Predicted')\n",
    "plt.ylabel('True')\n",
    "plt.title('Confusion Matrix')\n",
    "\n",
    "# Show the plot\n",
    "plt.show()"
   ]
  },
  {
   "cell_type": "code",
   "execution_count": null,
   "id": "21c4e838",
   "metadata": {},
   "outputs": [],
   "source": [
    "print(f'Accuracy of The model: {accuracy_score(y_test, y_pred)*100:.2f} %')\n",
    "print(f'Precision Score of The model: {precision_score(y_test, y_pred)*100:.2f} %')\n",
    "print(f'Recall Score of The model: {recall_score(y_test, y_pred)*100:.2f} %')\n",
    "print(f'F1 Score of The model: {f1_score(y_test, y_pred)*100:.2f} %')\n",
    "print(f\"Naive Bayes Cross-validation Mean Accuracy: {nb_cv_scores.mean()}\")"
   ]
  },
  {
   "cell_type": "code",
   "execution_count": null,
   "id": "65789d8e",
   "metadata": {},
   "outputs": [],
   "source": []
  },
  {
   "cell_type": "code",
   "execution_count": null,
   "id": "4674d695",
   "metadata": {},
   "outputs": [],
   "source": []
  },
  {
   "cell_type": "code",
   "execution_count": null,
   "id": "4f662006",
   "metadata": {},
   "outputs": [],
   "source": []
  },
  {
   "cell_type": "code",
   "execution_count": null,
   "id": "952aa957",
   "metadata": {},
   "outputs": [],
   "source": []
  },
  {
   "cell_type": "code",
   "execution_count": null,
   "id": "17f11266",
   "metadata": {},
   "outputs": [],
   "source": []
  },
  {
   "cell_type": "code",
   "execution_count": null,
   "id": "c30cdd6f",
   "metadata": {},
   "outputs": [],
   "source": []
  },
  {
   "cell_type": "code",
   "execution_count": null,
   "id": "cfaec3ef",
   "metadata": {},
   "outputs": [],
   "source": []
  },
  {
   "cell_type": "code",
   "execution_count": null,
   "id": "0a9b6227",
   "metadata": {},
   "outputs": [],
   "source": []
  },
  {
   "cell_type": "code",
   "execution_count": null,
   "id": "ef46ee24",
   "metadata": {},
   "outputs": [],
   "source": []
  },
  {
   "cell_type": "code",
   "execution_count": null,
   "id": "0375fca2",
   "metadata": {},
   "outputs": [],
   "source": []
  },
  {
   "cell_type": "code",
   "execution_count": null,
   "id": "81d4abe7",
   "metadata": {},
   "outputs": [],
   "source": []
  }
 ],
 "metadata": {
  "kernelspec": {
   "display_name": "Python 3 (ipykernel)",
   "language": "python",
   "name": "python3"
  },
  "language_info": {
   "codemirror_mode": {
    "name": "ipython",
    "version": 3
   },
   "file_extension": ".py",
   "mimetype": "text/x-python",
   "name": "python",
   "nbconvert_exporter": "python",
   "pygments_lexer": "ipython3",
   "version": "3.11.5"
  }
 },
 "nbformat": 4,
 "nbformat_minor": 5
}
