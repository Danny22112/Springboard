{
 "cells": [
  {
   "cell_type": "markdown",
   "id": "f66ac380",
   "metadata": {},
   "source": [
    "## Average height in japan"
   ]
  },
  {
   "cell_type": "code",
   "execution_count": null,
   "id": "d7e0bc5a",
   "metadata": {},
   "outputs": [],
   "source": []
  },
  {
   "cell_type": "markdown",
   "id": "43ea2403",
   "metadata": {},
   "source": [
    "## Import libaries"
   ]
  },
  {
   "cell_type": "code",
   "execution_count": 1,
   "id": "c982e619",
   "metadata": {},
   "outputs": [],
   "source": [
    "import pandas as pd\n",
    "import numpy as np\n",
    "import matplotlib.pyplot as plt\n",
    "# scipi is a library for statistical tests and visualizations \n",
    "from scipy import stats\n",
    "# random enables us to generate random numbers\n",
    "import random"
   ]
  },
  {
   "cell_type": "markdown",
   "id": "f176e087",
   "metadata": {},
   "source": [
    "## Sourcing and loading"
   ]
  },
  {
   "cell_type": "code",
   "execution_count": 4,
   "id": "d350f91a",
   "metadata": {},
   "outputs": [
    {
     "data": {
      "text/html": [
       "<div>\n",
       "<style scoped>\n",
       "    .dataframe tbody tr th:only-of-type {\n",
       "        vertical-align: middle;\n",
       "    }\n",
       "\n",
       "    .dataframe tbody tr th {\n",
       "        vertical-align: top;\n",
       "    }\n",
       "\n",
       "    .dataframe thead th {\n",
       "        text-align: right;\n",
       "    }\n",
       "</style>\n",
       "<table border=\"1\" class=\"dataframe\">\n",
       "  <thead>\n",
       "    <tr style=\"text-align: right;\">\n",
       "      <th></th>\n",
       "      <th>year</th>\n",
       "      <th>category</th>\n",
       "      <th>height_average</th>\n",
       "      <th>height_standard deviation</th>\n",
       "      <th>body weight _average</th>\n",
       "      <th>body weight _standard deviation</th>\n",
       "    </tr>\n",
       "  </thead>\n",
       "  <tbody>\n",
       "    <tr>\n",
       "      <th>0</th>\n",
       "      <td>5</td>\n",
       "      <td>national</td>\n",
       "      <td>111.0</td>\n",
       "      <td>4.87</td>\n",
       "      <td>19.3</td>\n",
       "      <td>2.79</td>\n",
       "    </tr>\n",
       "    <tr>\n",
       "      <th>1</th>\n",
       "      <td>5</td>\n",
       "      <td>Hokkaido</td>\n",
       "      <td>111.3</td>\n",
       "      <td>4.81</td>\n",
       "      <td>19.3</td>\n",
       "      <td>2.83</td>\n",
       "    </tr>\n",
       "    <tr>\n",
       "      <th>2</th>\n",
       "      <td>5</td>\n",
       "      <td>Aomori</td>\n",
       "      <td>111.8</td>\n",
       "      <td>4.87</td>\n",
       "      <td>19.9</td>\n",
       "      <td>2.78</td>\n",
       "    </tr>\n",
       "  </tbody>\n",
       "</table>\n",
       "</div>"
      ],
      "text/plain": [
       "   year  category  height_average  height_standard deviation  \\\n",
       "0     5  national           111.0                       4.87   \n",
       "1     5  Hokkaido           111.3                       4.81   \n",
       "2     5    Aomori           111.8                       4.87   \n",
       "\n",
       "   body weight _average  body weight _standard deviation  \n",
       "0                  19.3                             2.79  \n",
       "1                  19.3                             2.83  \n",
       "2                  19.9                             2.78  "
      ]
     },
     "execution_count": 4,
     "metadata": {},
     "output_type": "execute_result"
    }
   ],
   "source": [
    "man = 'man.csv'\n",
    "\n",
    "# Read the csv file into a data frame called Google using the read_csv() pandas method.\n",
    "Man = pd.read_csv(man)\n",
    "\n",
    "# Using the head() pandas method, observe the first three entries.\n",
    "Man.head(3)"
   ]
  },
  {
   "cell_type": "code",
   "execution_count": 7,
   "id": "389d851f",
   "metadata": {},
   "outputs": [
    {
     "data": {
      "text/html": [
       "<div>\n",
       "<style scoped>\n",
       "    .dataframe tbody tr th:only-of-type {\n",
       "        vertical-align: middle;\n",
       "    }\n",
       "\n",
       "    .dataframe tbody tr th {\n",
       "        vertical-align: top;\n",
       "    }\n",
       "\n",
       "    .dataframe thead th {\n",
       "        text-align: right;\n",
       "    }\n",
       "</style>\n",
       "<table border=\"1\" class=\"dataframe\">\n",
       "  <thead>\n",
       "    <tr style=\"text-align: right;\">\n",
       "      <th></th>\n",
       "      <th>year</th>\n",
       "      <th>category</th>\n",
       "      <th>height_average_1</th>\n",
       "      <th>height_standard deviation_2</th>\n",
       "      <th>body weight _average_3</th>\n",
       "      <th>body weight _standard deviation_4</th>\n",
       "    </tr>\n",
       "  </thead>\n",
       "  <tbody>\n",
       "    <tr>\n",
       "      <th>0</th>\n",
       "      <td>5</td>\n",
       "      <td>national</td>\n",
       "      <td>110.1</td>\n",
       "      <td>4.86</td>\n",
       "      <td>19.0</td>\n",
       "      <td>2.74</td>\n",
       "    </tr>\n",
       "    <tr>\n",
       "      <th>1</th>\n",
       "      <td>5</td>\n",
       "      <td>Hokkaido</td>\n",
       "      <td>110.1</td>\n",
       "      <td>4.90</td>\n",
       "      <td>18.9</td>\n",
       "      <td>2.98</td>\n",
       "    </tr>\n",
       "    <tr>\n",
       "      <th>2</th>\n",
       "      <td>5</td>\n",
       "      <td>Aomori</td>\n",
       "      <td>111.0</td>\n",
       "      <td>4.95</td>\n",
       "      <td>19.5</td>\n",
       "      <td>2.98</td>\n",
       "    </tr>\n",
       "  </tbody>\n",
       "</table>\n",
       "</div>"
      ],
      "text/plain": [
       "   year  category  height_average_1  height_standard deviation_2  \\\n",
       "0     5  national             110.1                         4.86   \n",
       "1     5  Hokkaido             110.1                         4.90   \n",
       "2     5    Aomori             111.0                         4.95   \n",
       "\n",
       "   body weight _average_3  body weight _standard deviation_4  \n",
       "0                    19.0                               2.74  \n",
       "1                    18.9                               2.98  \n",
       "2                    19.5                               2.98  "
      ]
     },
     "execution_count": 7,
     "metadata": {},
     "output_type": "execute_result"
    }
   ],
   "source": [
    "woman = 'woman.csv'\n",
    "\n",
    "# Read the csv file into a data frame called Google using the read_csv() pandas method.\n",
    "Woman = pd.read_csv(woman)\n",
    "\n",
    "# Using the head() pandas method, observe the first three entries.\n",
    "Woman.head(3)"
   ]
  },
  {
   "cell_type": "code",
   "execution_count": null,
   "id": "6ab894c1",
   "metadata": {},
   "outputs": [],
   "source": []
  }
 ],
 "metadata": {
  "kernelspec": {
   "display_name": "Python 3 (ipykernel)",
   "language": "python",
   "name": "python3"
  },
  "language_info": {
   "codemirror_mode": {
    "name": "ipython",
    "version": 3
   },
   "file_extension": ".py",
   "mimetype": "text/x-python",
   "name": "python",
   "nbconvert_exporter": "python",
   "pygments_lexer": "ipython3",
   "version": "3.11.5"
  }
 },
 "nbformat": 4,
 "nbformat_minor": 5
}
